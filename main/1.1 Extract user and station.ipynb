{
 "cells": [
  {
   "cell_type": "markdown",
   "metadata": {},
   "source": [
    "## 1. Setting"
   ]
  },
  {
   "cell_type": "code",
   "execution_count": 1,
   "metadata": {},
   "outputs": [],
   "source": [
    "from config import *\n",
    "import os\n",
    "os.chdir(PROJECT_PATH)\n",
    "\n",
    "import requests\n",
    "import datetime\n",
    "import numpy as np\n",
    "import pandas as pd\n",
    "from tqdm import tqdm\n",
    "from sklearn.cluster import DBSCAN\n",
    "import xml.etree.ElementTree as elemTree\n",
    "\n",
    "import lib.inputManager as IM\n",
    "import lib.userManager as UM\n",
    "import lib.stationManager as SM\n",
    "import lib.numpyPlus as NPLUS"
   ]
  },
  {
   "cell_type": "markdown",
   "metadata": {},
   "source": [
    "## 2. Loading"
   ]
  },
  {
   "cell_type": "code",
   "execution_count": 2,
   "metadata": {},
   "outputs": [],
   "source": [
    "# 로딩할 파일 명 리스트 생성\n",
    "input_path_list = IM.make_input_path(START_DATE, END_DATE)\n",
    "\n",
    "# 전체 데이터 로딩 (multi)\n",
    "usage_df = IM.parallel_load_total_usage_df(input_path_list)\n",
    "# usage_df = IM.load_total_usage_df(input_path_list)"
   ]
  },
  {
   "cell_type": "markdown",
   "metadata": {},
   "source": [
    "## 3. Extracting and Analyzing"
   ]
  },
  {
   "cell_type": "markdown",
   "metadata": {},
   "source": [
    "#### 3.1 Extracting station and user"
   ]
  },
  {
   "cell_type": "code",
   "execution_count": 3,
   "metadata": {},
   "outputs": [],
   "source": [
    "#정류장 추출\n",
    "station_df = SM.create_station_df(usage_df)\n",
    "\n",
    "#유저 목록 생성\n",
    "user_df = UM.create_user_df(usage_df)"
   ]
  },
  {
   "cell_type": "markdown",
   "metadata": {},
   "source": [
    "#### 3.2 first station analysis"
   ]
  },
  {
   "cell_type": "code",
   "execution_count": 40,
   "metadata": {},
   "outputs": [
    {
     "name": "stderr",
     "output_type": "stream",
     "text": [
      "100%|██████████████████████████████████████████████████████████████████████████████| 3654/3654 [04:35<00:00, 13.26it/s]\n"
     ]
    },
    {
     "name": "stdout",
     "output_type": "stream",
     "text": [
      "There is no column  'tourist'\n",
      "create 'tourist' column that the value is False\n"
     ]
    }
   ],
   "source": [
    "#정류장 주소 계산 및 컬럼 삽입\n",
    "station_df = SM.set_station_address_column(station_df)\n",
    "\n",
    "# 전체 이용자에 대한 정류장별 이용량 분석 수행\n",
    "orders = [[\"total\",   \"geton\",  \"total_geton\"],\n",
    "          [\"total\",   \"getoff\", \"total_getoff\"]]\n",
    "station_df = SM.analyze_station_usage(station_df, user_df, usage_df, orders)\n",
    "\n",
    "# 공항과 항만에 대한 이름 후보(정류장 이름의 부분 문자열) 데이터\n",
    "airport_candidate_list = [\"제주국제공항\"]\n",
    "harbor_candidate_list = [\"국제여객터미널\", \"제주연안여객터미널\", \"제4부두\", \"제6부두\", \"임항로\", \"제주해양경찰서\"]\n",
    "    \n",
    "# 공항 정류장을 추출 후 station_df에 속성으로 삽입\n",
    "airport_station_df = SM.extract_related_stations(station_df, \"station_name\", airport_candidate_list)\n",
    "station_df = NPLUS.insert_flag_column(station_df, airport_station_df, id_column = \"station_id\", result_column = \"airport_flag\")\n",
    "\n",
    "# 항만 정류장을 추출 후 station_df에 속성으로 삽입\n",
    "harbor_station_df = SM.extract_related_stations(station_df, \"station_name\", harbor_candidate_list)\n",
    "station_df = NPLUS.insert_flag_column(station_df, harbor_station_df, id_column = \"station_id\", result_column = \"harbor_flag\")\n",
    "\n",
    "# candidate_df는 기존의 station_df에 수작업으로 candidate컬럼 생성 요구\n",
    "tour_station_candidate_df = pd.read_csv(TOUR_STATION_CANDIDATE_DF_PATH, low_memory=False, encoding = DEFAULT_ENCODING) #, dtype=dtype)\n",
    "station_df = SM.analyze_tour_station(station_df, tour_station_candidate_df, result_column=\"tour_station_flag\")"
   ]
  },
  {
   "cell_type": "markdown",
   "metadata": {},
   "source": [
    "#### 3.3 User analysis"
   ]
  },
  {
   "cell_type": "code",
   "execution_count": 41,
   "metadata": {},
   "outputs": [],
   "source": [
    "# 이용 날짜 수 분석\n",
    "user_df = UM.analyze_usage_date(user_df, usage_df)\n",
    "\n",
    "# 버스 이용 횟수 분석\n",
    "user_df = UM.analyze_usage_num(user_df, usage_df)\n",
    "\n",
    "# 이용 비율 분석\n",
    "user_df = UM.analyze_usage_ratio(user_df)\n",
    "\n",
    "# 출발, 도작지 유형 분석\n",
    "user_df = UM.analyze_first_last_station_type(user_df, usage_df, station_df, \"first\", \"last\", \"case\")\n",
    "\n",
    "# 이용한 출입정류장(공항) 수 속성 삽입\n",
    "airport_station_df = station_df[station_df[\"airport_flag\"] == True]\n",
    "user_df = UM.analyze_visit_count(user_df, usage_df, airport_station_df, result_column=\"airport_count\")\n",
    "\n",
    "# 이용한 출입정류장(항만) 수 속성 삽입\n",
    "harbor_station_df = station_df[station_df[\"harbor_flag\"] == True]\n",
    "user_df = UM.analyze_visit_count(user_df, usage_df, harbor_station_df, result_column=\"harbor_count\")\n",
    "\n",
    "# 출입정류장 수 속성 통합\n",
    "user_df[\"access_count\"] = user_df[\"airport_count\"] + user_df[\"harbor_count\"]\n",
    "\n",
    "# 이용한 관광정류장 수 속성 삽입\n",
    "tour_station_df = station_df[station_df[\"tour_station_flag\"] == True]\n",
    "user_df = UM.analyze_visit_count(user_df, usage_df, tour_station_df, result_column=\"tour_count\")\n",
    "\n",
    "# 관광객 분석\n",
    "user_df = UM.analyze_and_insert_tourist_column(user_df, column_name = \"tourist\")\n",
    "\n",
    "# analyze_station_usage()에 대한 작업 내용 파라미터 셋\n",
    "orders = [[\"tourist\", \"geton\",  \"tourist_geton_count\"],\n",
    "          [\"tourist\", \"getoff\", \"tourist_getoff_count\"]]"
   ]
  },
  {
   "cell_type": "markdown",
   "metadata": {},
   "source": [
    "#### 3.4 Second staion analysis"
   ]
  },
  {
   "cell_type": "code",
   "execution_count": 42,
   "metadata": {},
   "outputs": [],
   "source": [
    "# 관광객 이용자에 대한 정류장별 이용량 분석 수행\n",
    "station_df = SM.analyze_station_usage(station_df, user_df, usage_df, orders)"
   ]
  },
  {
   "cell_type": "markdown",
   "metadata": {},
   "source": [
    "## 4. Store"
   ]
  },
  {
   "cell_type": "code",
   "execution_count": 5,
   "metadata": {},
   "outputs": [],
   "source": [
    "# 정류장 데이터 저장\n",
    "station_df.to_csv(STATION_DF_PATH, encoding=DEFAULT_ENCODING, index=False)\n",
    "\n",
    "# 이용자 데이터 저장\n",
    "user_df.to_csv(USER_DF_PATH, encoding=DEFAULT_ENCODING, index=False)"
   ]
  },
  {
   "cell_type": "code",
   "execution_count": 3,
   "metadata": {},
   "outputs": [],
   "source": [
    "# station_df = pd.read_csv(STATION_DF_PATH, encoding = DEFAULT_ENCODING)\n",
    "# user_df = pd.read_csv(USER_DF_PATH, encoding = DEFAULT_ENCODING)"
   ]
  },
  {
   "cell_type": "code",
   "execution_count": null,
   "metadata": {},
   "outputs": [],
   "source": []
  }
 ],
 "metadata": {
  "kernelspec": {
   "display_name": "Python 3",
   "language": "python",
   "name": "python3"
  },
  "language_info": {
   "codemirror_mode": {
    "name": "ipython",
    "version": 3
   },
   "file_extension": ".py",
   "mimetype": "text/x-python",
   "name": "python",
   "nbconvert_exporter": "python",
   "pygments_lexer": "ipython3",
   "version": "3.8.3"
  }
 },
 "nbformat": 4,
 "nbformat_minor": 2
}
